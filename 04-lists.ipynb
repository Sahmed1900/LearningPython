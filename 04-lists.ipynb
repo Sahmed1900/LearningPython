{
 "cells": [
  {
   "cell_type": "code",
   "execution_count": 28,
   "id": "dcf31bce-d75a-4f4b-bbc6-aac5828c2ea1",
   "metadata": {},
   "outputs": [
    {
     "name": "stdout",
     "output_type": "stream",
     "text": [
      "[1, 3, 5, 7]\n"
     ]
    }
   ],
   "source": [
    "odds = [1,3,5,7]\n",
    "print(odds)"
   ]
  },
  {
   "cell_type": "code",
   "execution_count": 2,
   "id": "06be0e60-153e-42f8-bad8-8192233225f4",
   "metadata": {},
   "outputs": [
    {
     "name": "stdout",
     "output_type": "stream",
     "text": [
      "First element in the list 1\n"
     ]
    }
   ],
   "source": [
    "print(\"First element in the list\", odds[0])"
   ]
  },
  {
   "cell_type": "code",
   "execution_count": 5,
   "id": "f09d68c8-6289-4dbf-b769-42ce3d338593",
   "metadata": {},
   "outputs": [
    {
     "name": "stdout",
     "output_type": "stream",
     "text": [
      "Last element in the list 7\n"
     ]
    }
   ],
   "source": [
    "print(\"Last element in the list\", odds[-1])"
   ]
  },
  {
   "cell_type": "code",
   "execution_count": 6,
   "id": "9610a30d-06ce-48d4-96cd-83161e824d5d",
   "metadata": {},
   "outputs": [
    {
     "name": "stdout",
     "output_type": "stream",
     "text": [
      "Every second element in the list [1, 5]\n"
     ]
    }
   ],
   "source": [
    "print(\"Every second element in the list\", odds[0::2])"
   ]
  },
  {
   "cell_type": "code",
   "execution_count": 7,
   "id": "4ae63eac-8daf-49db-988a-e3db689415a0",
   "metadata": {},
   "outputs": [
    {
     "name": "stdout",
     "output_type": "stream",
     "text": [
      "names is originally ['Curie', 'Darwing', 'Turing']\n",
      "Final values of names ['Curie', 'Darwin', 'Turing']\n"
     ]
    }
   ],
   "source": [
    "names = [\"Curie\", \"Darwing\", \"Turing\"]\n",
    "print(\"names is originally\", names)\n",
    "names[1] = \"Darwin\"\n",
    "print(\"Final values of names\", names)"
   ]
  },
  {
   "cell_type": "code",
   "execution_count": 10,
   "id": "3ed94ed4-9cde-4855-8d93-916db9bf3eca",
   "metadata": {},
   "outputs": [
    {
     "name": "stdout",
     "output_type": "stream",
     "text": [
      "First character in the name D\n"
     ]
    }
   ],
   "source": [
    "name =\"Darwin\"\n",
    "print (\"First character in the name\", name[0])"
   ]
  },
  {
   "cell_type": "code",
   "execution_count": 11,
   "id": "3b6ef2b1-b386-4683-abc2-98d6165517a5",
   "metadata": {},
   "outputs": [
    {
     "ename": "TypeError",
     "evalue": "'str' object does not support item assignment",
     "output_type": "error",
     "traceback": [
      "\u001b[0;31m---------------------------------------------------------------------------\u001b[0m",
      "\u001b[0;31mTypeError\u001b[0m                                 Traceback (most recent call last)",
      "\u001b[0;32m/var/folders/nf/hy6m06p54pz37m0633znn7th0000gn/T/ipykernel_95832/3558482453.py\u001b[0m in \u001b[0;36m<module>\u001b[0;34m\u001b[0m\n\u001b[0;32m----> 1\u001b[0;31m \u001b[0mname\u001b[0m\u001b[0;34m[\u001b[0m\u001b[0;36m0\u001b[0m\u001b[0;34m]\u001b[0m \u001b[0;34m=\u001b[0m \u001b[0;34m\"d\"\u001b[0m\u001b[0;34m\u001b[0m\u001b[0;34m\u001b[0m\u001b[0m\n\u001b[0m",
      "\u001b[0;31mTypeError\u001b[0m: 'str' object does not support item assignment"
     ]
    }
   ],
   "source": [
    "name[0] = \"d\""
   ]
  },
  {
   "cell_type": "code",
   "execution_count": 13,
   "id": "18ac0d91-f83c-44a9-afdd-089a929b80d0",
   "metadata": {},
   "outputs": [],
   "source": [
    "x = [\n",
    "    [\"pepper\", \"courgette\", \"onion\"],\n",
    "    [\"cabbage\", \"lettuce\", \"garlic\"],\n",
    "    [\"apple\", \"pear\", \"banana\"]\n",
    "]"
   ]
  },
  {
   "cell_type": "code",
   "execution_count": 14,
   "id": "9d1011ba-1e11-4875-ba45-c7bbc832a310",
   "metadata": {},
   "outputs": [
    {
     "name": "stdout",
     "output_type": "stream",
     "text": [
      "['pepper', 'courgetter', 'onion']\n"
     ]
    }
   ],
   "source": [
    "print(x[0])"
   ]
  },
  {
   "cell_type": "code",
   "execution_count": 15,
   "id": "b223af32-dc74-4a7e-b798-fc42de57b8bc",
   "metadata": {},
   "outputs": [
    {
     "name": "stdout",
     "output_type": "stream",
     "text": [
      "courgetter\n"
     ]
    }
   ],
   "source": [
    "print(x[0][1])\n"
   ]
  },
  {
   "cell_type": "code",
   "execution_count": 16,
   "id": "56553cbd-65cd-4248-9461-e76b5fd7f3e8",
   "metadata": {},
   "outputs": [],
   "source": [
    "sample_ages = [10, 12.5, \"unknown\"]"
   ]
  },
  {
   "cell_type": "code",
   "execution_count": 19,
   "id": "0f79adb4-2529-4068-9fef-7ad5b687beab",
   "metadata": {},
   "outputs": [
    {
     "name": "stdout",
     "output_type": "stream",
     "text": [
      "<class 'int'>\n",
      "<class 'float'>\n",
      "<class 'str'>\n"
     ]
    }
   ],
   "source": [
    "print(type(sample_ages[0]))\n",
    "print(type(sample_ages[1]))\n",
    "print(type(sample_ages[2]))"
   ]
  },
  {
   "cell_type": "code",
   "execution_count": 29,
   "id": "992dc66b-ab55-47c9-8552-e9700799e306",
   "metadata": {},
   "outputs": [
    {
     "name": "stdout",
     "output_type": "stream",
     "text": [
      "Odds after adding a value [1, 3, 5, 7, 11]\n"
     ]
    }
   ],
   "source": [
    "odds.append(11)\n",
    "print(\"Odds after adding a value\", odds)"
   ]
  },
  {
   "cell_type": "code",
   "execution_count": 30,
   "id": "0bf1c2a3-8686-4570-bea2-05c1a6098cc3",
   "metadata": {},
   "outputs": [
    {
     "name": "stdout",
     "output_type": "stream",
     "text": [
      "odds after removing the first element [3, 5, 7, 11]\n"
     ]
    }
   ],
   "source": [
    "removed_element = odds.pop(0)\n",
    "print(\"odds after removing the first element\", odds)"
   ]
  },
  {
   "cell_type": "code",
   "execution_count": 54,
   "id": "3589a1a8-c04f-4661-9ee5-185df8c4a366",
   "metadata": {},
   "outputs": [
    {
     "name": "stdout",
     "output_type": "stream",
     "text": [
      "2013\n"
     ]
    }
   ],
   "source": [
    "string_for_slicing = 'Observation date: 02-Feb-2013'\n",
    "print(string_for_slicing[-4:])"
   ]
  },
  {
   "cell_type": "code",
   "execution_count": 58,
   "id": "1e31bad0-f75c-4186-acbf-1ac259b82ced",
   "metadata": {},
   "outputs": [
    {
     "name": "stdout",
     "output_type": "stream",
     "text": [
      "I notpssgre ntesae\n"
     ]
    }
   ],
   "source": [
    "beatles = \"In an octopus's garden in the shade\"\n",
    "print(beatles[0::2])"
   ]
  },
  {
   "cell_type": "code",
   "execution_count": null,
   "id": "8c6c63ec-c0ca-4185-9204-5a55c0661be0",
   "metadata": {},
   "outputs": [],
   "source": []
  }
 ],
 "metadata": {
  "kernelspec": {
   "display_name": "Python 3 (ipykernel)",
   "language": "python",
   "name": "python3"
  },
  "language_info": {
   "codemirror_mode": {
    "name": "ipython",
    "version": 3
   },
   "file_extension": ".py",
   "mimetype": "text/x-python",
   "name": "python",
   "nbconvert_exporter": "python",
   "pygments_lexer": "ipython3",
   "version": "3.8.3"
  }
 },
 "nbformat": 4,
 "nbformat_minor": 5
}
