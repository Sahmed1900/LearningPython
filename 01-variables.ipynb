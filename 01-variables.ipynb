{
 "cells": [
  {
   "cell_type": "markdown",
   "id": "5b3b074a-d52d-4c6a-b832-5e5c65ca767d",
   "metadata": {},
   "source": [
    "# Variables\n",
    "\n",
    "This is the first notebook of this course\n",
    "\n",
    "We *are* learning ~~matlab~~ *python* using _jupyer_ notebooks\n"
   ]
  },
  {
   "cell_type": "code",
   "execution_count": 6,
   "id": "9c9f6a39-eb29-47bf-bacd-5011181bf8dd",
   "metadata": {},
   "outputs": [],
   "source": [
    "weight_kg = 55"
   ]
  },
  {
   "cell_type": "code",
   "execution_count": 7,
   "id": "8cae4ec1-6df6-45e3-a2e6-f095783d3ba3",
   "metadata": {},
   "outputs": [
    {
     "name": "stdout",
     "output_type": "stream",
     "text": [
      "55\n"
     ]
    }
   ],
   "source": [
    "print(weight_kg)"
   ]
  },
  {
   "cell_type": "code",
   "execution_count": 8,
   "id": "7b77277e-82f7-4782-aead-50654fa2465a",
   "metadata": {},
   "outputs": [
    {
     "name": "stdout",
     "output_type": "stream",
     "text": [
      "weight in pounds 121.00000000000001\n"
     ]
    }
   ],
   "source": [
    "print(\"weight in pounds\" , 2.2 * weight_kg)"
   ]
  },
  {
   "cell_type": "code",
   "execution_count": 10,
   "id": "df2ddada-c0d1-4fec-bb7f-41e48b6f2f53",
   "metadata": {},
   "outputs": [
    {
     "name": "stdout",
     "output_type": "stream",
     "text": [
      "weight in kg:  55 and in lb: 121.00000000000001\n"
     ]
    }
   ],
   "source": [
    "weight_lb = 2.2*weight_kg\n",
    "print(\"weight in kg: \", weight_kg, \"and in lb:\", weight_lb)"
   ]
  },
  {
   "cell_type": "code",
   "execution_count": 11,
   "id": "09084a6c-abe6-4b45-a83e-ea25e91d4174",
   "metadata": {},
   "outputs": [
    {
     "name": "stdout",
     "output_type": "stream",
     "text": [
      "weight in kg:  100 and in lb: 121.00000000000001\n"
     ]
    }
   ],
   "source": [
    "weight_kg = 100\n",
    "print(\"weight in kg: \", weight_kg, \"and in lb:\", weight_lb)"
   ]
  },
  {
   "cell_type": "code",
   "execution_count": null,
   "id": "8752806a-0ba8-4228-a840-bed6169fc3d1",
   "metadata": {},
   "outputs": [],
   "source": []
  }
 ],
 "metadata": {
  "kernelspec": {
   "display_name": "Python 3 (ipykernel)",
   "language": "python",
   "name": "python3"
  },
  "language_info": {
   "codemirror_mode": {
    "name": "ipython",
    "version": 3
   },
   "file_extension": ".py",
   "mimetype": "text/x-python",
   "name": "python",
   "nbconvert_exporter": "python",
   "pygments_lexer": "ipython3",
   "version": "3.8.3"
  }
 },
 "nbformat": 4,
 "nbformat_minor": 5
}
